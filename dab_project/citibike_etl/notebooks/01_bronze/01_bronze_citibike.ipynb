{
 "cells": [
  {
   "cell_type": "code",
   "execution_count": 1,
   "metadata": {},
   "outputs": [],
   "source": [
    "from pyspark.sql import SparkSession\n",
    "\n",
    "spark = SparkSession.builder \\\n",
    "    .appName(\"Citibike Data\") \\\n",
    "    .getOrCreate()\n"
   ]
  },
  {
   "cell_type": "code",
   "execution_count": 2,
   "metadata": {},
   "outputs": [],
   "source": [
    "from pyspark.sql.types import StructType, StructField, StringType, DecimalType, TimestampType\n",
    "from pyspark.sql.functions import create_map, lit"
   ]
  },
  {
   "cell_type": "code",
   "execution_count": 12,
   "metadata": {},
   "outputs": [],
   "source": [
    "# 1️⃣ Define the mock class\n",
    "class MockDBUtils:\n",
    "    class Widgets:\n",
    "        def __init__(self):\n",
    "            self.values = {}\n",
    "\n",
    "        def text(self, name, default_value=\"\"):\n",
    "            self.values[name] = default_value\n",
    "\n",
    "        def get(self, name):\n",
    "            return self.values.get(name, \"\")\n",
    "\n",
    "    def __init__(self):\n",
    "        self.widgets = self.Widgets()  # make widgets an attribute\n",
    "\n",
    "# 2️⃣ Instantiate mock\n",
    "dbutils = MockDBUtils()\n"
   ]
  },
  {
   "cell_type": "code",
   "execution_count": 13,
   "metadata": {},
   "outputs": [],
   "source": [
    "pipeline_id = dbutils.widgets.get(\"pipeline_id\")\n",
    "run_id = dbutils.widgets.get(\"run_id\")\n",
    "task_id = dbutils.widgets.get(\"task_id\")\n",
    "processed_timestamp = dbutils.widgets.get(\"processed_timestamp\")\n",
    "catalog = dbutils.widgets.get(\"catalog\")"
   ]
  },
  {
   "cell_type": "code",
   "execution_count": 19,
   "metadata": {},
   "outputs": [
    {
     "name": "stdout",
     "output_type": "stream",
     "text": [
      "Using catalog: citibike_dev\n"
     ]
    }
   ],
   "source": [
    "dbutils = MockDBUtils()\n",
    "dbutils.widgets.text(\"catalog\",\"citibike_dev\")\n",
    "catalog = dbutils.widgets.get(\"catalog\")\n",
    "print(\"Using catalog:\", catalog)"
   ]
  },
  {
   "cell_type": "code",
   "execution_count": 15,
   "metadata": {},
   "outputs": [],
   "source": [
    "schema = StructType([\n",
    "    StructField(\"ride_id\", StringType(), True),\n",
    "    StructField(\"rideable_type\", StringType(), True),\n",
    "    StructField(\"started_at\", TimestampType(), True),\n",
    "    StructField(\"ended_at\", TimestampType(), True),\n",
    "    StructField(\"start_station_name\", StringType(), True), \n",
    "    StructField(\"start_station_id\", StringType(), True),   \n",
    "    StructField(\"end_station_name\", StringType(), True), \n",
    "    StructField(\"end_station_id\", StringType(), True), \n",
    "    StructField(\"start_lat\", DecimalType(), True), \n",
    "    StructField(\"start_lng\", DecimalType(), True), \n",
    "    StructField(\"end_lat\", DecimalType(), True), \n",
    "    StructField(\"end_lng\", DecimalType(), True), \n",
    "    StructField(\"member_casual\", StringType(), True), \n",
    "])"
   ]
  },
  {
   "cell_type": "code",
   "execution_count": 16,
   "metadata": {},
   "outputs": [],
   "source": [
    "df = spark.read.csv(f\"/Volumes/{catalog}/00_landing/source_citibike_data/JC-202503-citibike-tripdata.csv\", schema=schema, header=True)"
   ]
  },
  {
   "cell_type": "code",
   "execution_count": 17,
   "metadata": {},
   "outputs": [],
   "source": [
    "df = df.withColumn(\"metadata\", \n",
    "              create_map(\n",
    "                  lit(\"pipeline_id\"), lit(pipeline_id),\n",
    "                  lit(\"run_id\"), lit(run_id),\n",
    "                  lit(\"task_id\"), lit(task_id),\n",
    "                  lit(\"processed_timestamp\"), lit(processed_timestamp)\n",
    "                  ))"
   ]
  },
  {
   "cell_type": "code",
   "execution_count": null,
   "metadata": {},
   "outputs": [],
   "source": [
    "df.write.\\\n",
    "    mode(\"overwrite\").\\\n",
    "    option(\"overwriteSchema\", \"true\").\\\n",
    "    saveAsTable(f\"{catalog}.01_bronze.jc_citibike\")"
   ]
  },
  {
   "cell_type": "code",
   "execution_count": null,
   "metadata": {},
   "outputs": [],
   "source": []
  }
 ],
 "metadata": {
  "kernelspec": {
   "display_name": "Python (.venv_dbc)",
   "language": "python",
   "name": "venv_dbc"
  },
  "language_info": {
   "codemirror_mode": {
    "name": "ipython",
    "version": 3
   },
   "file_extension": ".py",
   "mimetype": "text/x-python",
   "name": "python",
   "nbconvert_exporter": "python",
   "pygments_lexer": "ipython3",
   "version": "3.11.13"
  }
 },
 "nbformat": 4,
 "nbformat_minor": 2
}
