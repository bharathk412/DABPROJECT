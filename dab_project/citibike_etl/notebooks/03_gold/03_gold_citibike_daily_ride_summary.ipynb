{
 "cells": [
  {
   "cell_type": "code",
   "execution_count": 6,
   "id": "8099c3fc",
   "metadata": {},
   "outputs": [],
   "source": [
    "from pyspark.sql.functions import max, min, avg, count, round\n",
    "from pyspark.sql import SparkSession"
   ]
  },
  {
   "cell_type": "code",
   "execution_count": 7,
   "id": "a6838e04",
   "metadata": {},
   "outputs": [],
   "source": [
    "class MockDBUtils:\n",
    "    class Widgets:\n",
    "        def __init__(self):\n",
    "            self.values = {}\n",
    "\n",
    "        def text(self, name, default_value=\"\"):\n",
    "            self.values[name] = default_value\n",
    "\n",
    "        def get(self, name):\n",
    "            return self.values.get(name, \"\")\n",
    "\n",
    "    def __init__(self):\n",
    "        self.widgets = self.Widgets()\n"
   ]
  },
  {
   "cell_type": "code",
   "execution_count": 8,
   "id": "71569c41",
   "metadata": {},
   "outputs": [],
   "source": [
    "dbutils = MockDBUtils()\n",
    "dbutils.widgets.text(\"catalog\", \"citibike_dev\")  # ✅ default\n",
    "catalog = dbutils.widgets.get(\"catalog\") or \"citibike_dev\""
   ]
  },
  {
   "cell_type": "code",
   "execution_count": 11,
   "id": "8e495aa7",
   "metadata": {},
   "outputs": [],
   "source": [
    "from pyspark.sql import SparkSession\n",
    "\n",
    "spark = SparkSession.builder \\\n",
    "    .appName(\"Citibike Data\") \\\n",
    "    .getOrCreate()"
   ]
  },
  {
   "cell_type": "code",
   "execution_count": 12,
   "id": "8c75b910",
   "metadata": {},
   "outputs": [],
   "source": [
    "df = spark.read.table(f\"{catalog}.`02_silver`.jc_citibike\")"
   ]
  },
  {
   "cell_type": "code",
   "execution_count": 13,
   "id": "a2dddf0c",
   "metadata": {},
   "outputs": [],
   "source": [
    "\n",
    "df = df.groupBy(\"trip_start_date\").agg(\n",
    "    round(max(\"trip_duration_mins\"),2).alias(\"max_trip_duration_mins\"),\n",
    "    round(min(\"trip_duration_mins\"),2).alias(\"min_trip_duration_mins\"),\n",
    "    round(avg(\"trip_duration_mins\"),2).alias(\"avg_trip_duration_mins\"),\n",
    "    count(\"ride_id\").alias(\"total_trips\")\n",
    ")"
   ]
  },
  {
   "cell_type": "code",
   "execution_count": 13,
   "id": "27983cef",
   "metadata": {},
   "outputs": [],
   "source": [
    "df.write.\\\n",
    "    mode(\"overwrite\").\\\n",
    "    option(\"overwriteSchema\", \"true\").\\\n",
    "    saveAsTable(f\"{catalog}.`03_gold`.daily_ride_summary\")"
   ]
  },
  {
   "cell_type": "code",
   "execution_count": null,
   "id": "b6ab288f",
   "metadata": {},
   "outputs": [],
   "source": []
  }
 ],
 "metadata": {
  "kernelspec": {
   "display_name": "Python (.venv_dbc)",
   "language": "python",
   "name": "venv_dbc"
  },
  "language_info": {
   "codemirror_mode": {
    "name": "ipython",
    "version": 3
   },
   "file_extension": ".py",
   "mimetype": "text/x-python",
   "name": "python",
   "nbconvert_exporter": "python",
   "pygments_lexer": "ipython3",
   "version": "3.11.13"
  }
 },
 "nbformat": 4,
 "nbformat_minor": 5
}
