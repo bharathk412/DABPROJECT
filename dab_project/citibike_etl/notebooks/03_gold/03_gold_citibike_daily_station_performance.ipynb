{
 "cells": [
  {
   "cell_type": "code",
   "execution_count": 19,
   "id": "02f7b617",
   "metadata": {},
   "outputs": [],
   "source": [
    "from pyspark.sql import SparkSession\n",
    "from pyspark.sql.functions import avg, count, round as spark_round "
   ]
  },
  {
   "cell_type": "code",
   "execution_count": 20,
   "id": "5cd2e489",
   "metadata": {},
   "outputs": [],
   "source": [
    "class MockDBUtils:\n",
    "    class Widgets:\n",
    "        def __init__(self):\n",
    "            self.values = {}\n",
    "\n",
    "        def text(self, name, default_value=\"\"):\n",
    "            self.values[name] = default_value\n",
    "\n",
    "        def get(self, name):\n",
    "            return self.values.get(name, \"\")\n",
    "\n",
    "    def __init__(self):\n",
    "        self.widgets = self.Widgets()\n"
   ]
  },
  {
   "cell_type": "code",
   "execution_count": 21,
   "id": "69cd95da",
   "metadata": {},
   "outputs": [],
   "source": [
    "dbutils = MockDBUtils()\n",
    "dbutils.widgets.text(\"catalog\", \"citibike_dev\")  # ✅ default fallback\n",
    "catalog = dbutils.widgets.get(\"catalog\") or \"citibike_dev\""
   ]
  },
  {
   "cell_type": "code",
   "execution_count": 22,
   "id": "156dcc6f",
   "metadata": {},
   "outputs": [],
   "source": [
    "spark = SparkSession.builder \\\n",
    "    .appName(\"Citibike Data\") \\\n",
    "    .getOrCreate()"
   ]
  },
  {
   "cell_type": "code",
   "execution_count": 23,
   "id": "f24fd298",
   "metadata": {},
   "outputs": [],
   "source": [
    "df = spark.read.table(f\"{catalog}.`02_silver`.jc_citibike\")"
   ]
  },
  {
   "cell_type": "code",
   "execution_count": 24,
   "id": "a9a94ee6",
   "metadata": {},
   "outputs": [],
   "source": [
    "\n",
    "df = df \\\n",
    "    .groupBy(\"trip_start_date\", \"start_station_name\") \\\n",
    "    .agg(\n",
    "        spark_round(avg(\"trip_duration_mins\"), 2).alias(\"avg_trip_duration_mins\"),\n",
    "        count(\"ride_id\").alias(\"total_trips\")\n",
    "    )"
   ]
  },
  {
   "cell_type": "code",
   "execution_count": 9,
   "id": "80b51ac1",
   "metadata": {},
   "outputs": [],
   "source": [
    "df.write.\\\n",
    "    mode(\"overwrite\").\\\n",
    "    option(\"overwriteSchema\", \"true\").\\\n",
    "    saveAsTable(f\"{catalog}.`03_gold`.daily_station_performance\")"
   ]
  },
  {
   "cell_type": "code",
   "execution_count": null,
   "id": "2f14d5a3",
   "metadata": {},
   "outputs": [],
   "source": []
  }
 ],
 "metadata": {
  "kernelspec": {
   "display_name": "Python (.venv_dbc)",
   "language": "python",
   "name": "venv_dbc"
  },
  "language_info": {
   "codemirror_mode": {
    "name": "ipython",
    "version": 3
   },
   "file_extension": ".py",
   "mimetype": "text/x-python",
   "name": "python",
   "nbconvert_exporter": "python",
   "pygments_lexer": "ipython3",
   "version": "3.11.13"
  }
 },
 "nbformat": 4,
 "nbformat_minor": 5
}
